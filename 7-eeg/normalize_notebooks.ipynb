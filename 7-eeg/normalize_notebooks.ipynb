{
 "cells": [
  {
   "cell_type": "code",
   "execution_count": 3,
   "metadata": {},
   "outputs": [
    {
     "name": "stdout",
     "output_type": "stream",
     "text": [
      "Working on notebook:  erp_artifacts\n",
      "Working on notebook:  erp_avg_reref\n",
      "Working on notebook:  erp_filtering\n",
      "Working on notebook:  erp_group_stats\n",
      "Working on notebook:  erp_group_viz\n",
      "Working on notebook:  erp_segmentation\n"
     ]
    },
    {
     "name": "stderr",
     "output_type": "stream",
     "text": [
      "/var/folders/nq/chbqhzjx5hb6hfjx708rh2_40000gn/T/ipykernel_53818/1878424983.py:15: MissingIDFieldWarning: Cell is missing an id field, this will become a hard error in future nbformat versions. You may want to use `normalize()` on your notebooks before validations (available since nbformat 5.1.4). Previous versions of nbformat are fixing this issue transparently, and will stop doing so in the future.\n",
      "  nbformat.validator.validate(nb_corrupted)\n"
     ]
    }
   ],
   "source": [
    "import nbformat\n",
    "\n",
    "problematic_notebooks = ['erp_artifacts', 'erp_avg_reref', 'erp_filtering',\n",
    "                         'erp_group_stats', 'erp_group_viz', 'erp_segmentation'\n",
    "                         ]\n",
    "\n",
    "for notebook in problematic_notebooks:   \n",
    "    print('Working on notebook: ', notebook)                      \n",
    "    with open(notebook  + \".ipynb\", \"r\") as file:\n",
    "        nb_corrupted = nbformat.reader.read(file)\n",
    "        \n",
    "    file.close()\n",
    "\n",
    "\n",
    "    nbformat.validator.validate(nb_corrupted)\n",
    "\n",
    "    nb_fixed = nbformat.validator.normalize(nb_corrupted)\n",
    "    nbformat.validator.validate(nb_fixed[1])\n",
    "    # Produces no warnings or errors.\n",
    "\n",
    "    with open(notebook + \".ipynb\", \"w\") as file:\n",
    "        nbformat.write(nb_fixed[1], file)\n",
    "    file.close()\n"
   ]
  },
  {
   "cell_type": "code",
   "execution_count": null,
   "metadata": {},
   "outputs": [],
   "source": []
  }
 ],
 "metadata": {
  "kernelspec": {
   "display_name": "neural_data_science",
   "language": "python",
   "name": "python3"
  },
  "language_info": {
   "codemirror_mode": {
    "name": "ipython",
    "version": 3
   },
   "file_extension": ".py",
   "mimetype": "text/x-python",
   "name": "python",
   "nbconvert_exporter": "python",
   "pygments_lexer": "ipython3",
   "version": "3.12.6"
  }
 },
 "nbformat": 4,
 "nbformat_minor": 2
}
