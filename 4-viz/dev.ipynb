{
 "cells": [
  {
   "cell_type": "code",
   "execution_count": 15,
   "metadata": {},
   "outputs": [],
   "source": [
    "import pandas as pd\n",
    "import matplotlib.pyplot as plt\n",
    "from glob import glob\n",
    "import numpy as np"
   ]
  },
  {
   "cell_type": "code",
   "execution_count": 33,
   "metadata": {},
   "outputs": [
    {
     "data": {
      "text/html": [
       "<div>\n",
       "<style scoped>\n",
       "    .dataframe tbody tr th:only-of-type {\n",
       "        vertical-align: middle;\n",
       "    }\n",
       "\n",
       "    .dataframe tbody tr th {\n",
       "        vertical-align: top;\n",
       "    }\n",
       "\n",
       "    .dataframe thead th {\n",
       "        text-align: right;\n",
       "    }\n",
       "</style>\n",
       "<table border=\"1\" class=\"dataframe\">\n",
       "  <thead>\n",
       "    <tr style=\"text-align: right;\">\n",
       "      <th></th>\n",
       "      <th>ID</th>\n",
       "      <th>Sex</th>\n",
       "      <th>Trial</th>\n",
       "      <th>Condition</th>\n",
       "      <th>RT</th>\n",
       "    </tr>\n",
       "  </thead>\n",
       "  <tbody>\n",
       "    <tr>\n",
       "      <th>0</th>\n",
       "      <td>sub-01</td>\n",
       "      <td>male</td>\n",
       "      <td>0</td>\n",
       "      <td>word</td>\n",
       "      <td>0.466202</td>\n",
       "    </tr>\n",
       "    <tr>\n",
       "      <th>1</th>\n",
       "      <td>sub-01</td>\n",
       "      <td>male</td>\n",
       "      <td>1</td>\n",
       "      <td>nonword</td>\n",
       "      <td>0.668312</td>\n",
       "    </tr>\n",
       "    <tr>\n",
       "      <th>2</th>\n",
       "      <td>sub-01</td>\n",
       "      <td>male</td>\n",
       "      <td>2</td>\n",
       "      <td>word</td>\n",
       "      <td>0.458491</td>\n",
       "    </tr>\n",
       "    <tr>\n",
       "      <th>3</th>\n",
       "      <td>sub-01</td>\n",
       "      <td>male</td>\n",
       "      <td>3</td>\n",
       "      <td>word</td>\n",
       "      <td>0.462911</td>\n",
       "    </tr>\n",
       "    <tr>\n",
       "      <th>4</th>\n",
       "      <td>sub-01</td>\n",
       "      <td>male</td>\n",
       "      <td>4</td>\n",
       "      <td>word</td>\n",
       "      <td>0.435908</td>\n",
       "    </tr>\n",
       "  </tbody>\n",
       "</table>\n",
       "</div>"
      ],
      "text/plain": [
       "       ID   Sex  Trial Condition        RT\n",
       "0  sub-01  male      0      word  0.466202\n",
       "1  sub-01  male      1   nonword  0.668312\n",
       "2  sub-01  male      2      word  0.458491\n",
       "3  sub-01  male      3      word  0.462911\n",
       "4  sub-01  male      4      word  0.435908"
      ]
     },
     "execution_count": 33,
     "metadata": {},
     "output_type": "execute_result"
    }
   ],
   "source": [
    "data_files = glob('data/ldt2_s??_data.csv')\n",
    "\n",
    "dfs = [pd.read_csv(f) for f in data_files]\n",
    "for idx, df in enumerate(dfs):\n",
    "    # randomize the order of rows in the dataframe\n",
    "    dfs[idx] = df.sample(frac=1).reset_index(drop=True)\n",
    "    # add a column 'trial' that is the index of the row\n",
    "    dfs[idx]['Trial'] = df.index\n",
    "    \n",
    "\n",
    "df = pd.concat(dfs)\n",
    "\n",
    "# rename the condition column to Condition\n",
    "df.rename(columns={'condition': 'Condition'}, inplace=True)\n",
    "\n",
    "# replace 'ldt2_s' in df['ID'] with 'sub-'\n",
    "df['ID'] = df['ID'].str.replace('ldt2_s', 'sub-')\n",
    "\n",
    "# drop all rows where sub ID is > 10\n",
    "df = df[df['ID'].str[-2:].astype(int) <= 10]\n",
    "\n",
    "df['Group'] = np.NaN\n",
    "\n",
    "# set Group to 'male' if ID is less than 6, otherwise set Group to 'female'\n",
    "df.loc[df['ID'].str[-2:].astype(int) < 6, 'Sex'] = 'male'\n",
    "df.loc[df['ID'].str[-2:].astype(int) >= 6, 'Sex'] = 'female'\n",
    "\n",
    "# recorder columns as ['ID', 'Group', 'trial', 'condition', 'RT']\n",
    "df = df[['ID', 'Sex', 'Trial', 'Condition', 'RT']]\n",
    "\n",
    "df.head()"
   ]
  },
  {
   "cell_type": "code",
   "execution_count": null,
   "metadata": {},
   "outputs": [],
   "source": []
  },
  {
   "cell_type": "code",
   "execution_count": 34,
   "metadata": {},
   "outputs": [],
   "source": [
    "df.to_csv('data/ldt_2group_data.csv', index=False)"
   ]
  },
  {
   "cell_type": "code",
   "execution_count": null,
   "metadata": {},
   "outputs": [],
   "source": []
  }
 ],
 "metadata": {
  "kernelspec": {
   "display_name": "ncil",
   "language": "python",
   "name": "python3"
  },
  "language_info": {
   "codemirror_mode": {
    "name": "ipython",
    "version": 3
   },
   "file_extension": ".py",
   "mimetype": "text/x-python",
   "name": "python",
   "nbconvert_exporter": "python",
   "pygments_lexer": "ipython3",
   "version": "3.12.2"
  }
 },
 "nbformat": 4,
 "nbformat_minor": 2
}
